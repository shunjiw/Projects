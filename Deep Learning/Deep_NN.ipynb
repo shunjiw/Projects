{
 "cells": [
  {
   "cell_type": "code",
   "execution_count": 1,
   "metadata": {},
   "outputs": [],
   "source": [
    "import numpy as np\n",
    "import math"
   ]
  },
  {
   "cell_type": "code",
   "execution_count": 2,
   "metadata": {},
   "outputs": [],
   "source": [
    "### Deep Neural Netwrok ###\n",
    "\n",
    "def deep_nn_train(X, y, n_units = [3,2,1], alpha = 0.1, max_iterations = 1000):\n",
    "    \n",
    "    # Extract the dimension\n",
    "    (n0, m) = X.shape\n",
    "\n",
    "    # Set the number of layers and number of units in each layer\n",
    "    L = len(n_units) # L = number of hidden layers + 1\n",
    "    n = [n0] + n_units # [Input units, Hidden units, Output units]\n",
    "\n",
    "    \n",
    "    # Initialize parameters\n",
    "    w = list(np.zeros(L+1))\n",
    "    b = list(np.zeros(L+1))\n",
    "    for i in range(1, L+1):\n",
    "        w[i] = np.random.normal(size = (n[i], n[i-1]))*0.01\n",
    "        b[i] = np.zeros((n[i], 1))\n",
    "\n",
    "        \n",
    "    # Input layer\n",
    "    z = list(np.zeros(L+1))\n",
    "    a = list(np.zeros(L+1))\n",
    "    a[0] = X\n",
    "    \n",
    "    # Hidden layers\n",
    "    for i in range(1,L):\n",
    "        z[i] = np.dot(w[i], a[i-1]) + b[i]\n",
    "        a[i] = np.fmax(z[i], np.zeros(z[i].shape)) # ReLU\n",
    "\n",
    "    # Output layer\n",
    "    z[L] = np.dot(w[L], a[L-1]) + b[L]\n",
    "    a[L] = 1/(1+np.exp(-z[L])) # Sigmoid    \n",
    "\n",
    "    y_hat = a[-1]\n",
    "\n",
    "    k = 0  \n",
    "    while k < max_iterations:\n",
    "        \n",
    "        # Gradient\n",
    "        dz = list(np.zeros(L+1))\n",
    "        dw = list(np.zeros(L+1))\n",
    "        db = list(np.zeros(L+1))\n",
    "        \n",
    "        # Backward propagation\n",
    "        dz[L] = a[L] - y\n",
    "        dw[L] = np.dot(dz[L], a[L-1].T)/m\n",
    "        db[L] = np.sum(dz[L], axis = 1, keepdims = True)/m\n",
    "        \n",
    "        for i in range(L-1,0,-1):\n",
    "            dz[i] = np.multiply(np.dot(w[i+1].T, dz[i+1]), (z[i] > 0)*1)\n",
    "            dw[i] = np.dot(dz[i], a[i-1].T)/m\n",
    "            db[i] = np.sum(dz[i], axis = 1, keepdims = True)/m\n",
    "        \n",
    "        # Update parameters\n",
    "        for i in range(1,L+1):\n",
    "            w[i] -= dw[i] * alpha\n",
    "            b[i] -= db[i] * alpha \n",
    "        \n",
    "        # Forward propagation\n",
    "        # Hidden layers\n",
    "        for i in range(1,L): \n",
    "            z[i] = np.dot(w[i], a[i-1]) + b[i]\n",
    "            a[i] = np.fmax(z[i], np.zeros(z[i].shape)) # ReLU\n",
    "        \n",
    "        # Output layer\n",
    "        z[L] = np.dot(w[L], a[L-1]) + b[L] \n",
    "        a[L] = 1/(1+np.exp(-z[L])) # Sigmoid    \n",
    "        \n",
    "        \n",
    "        # Earth stop if convergence\n",
    "        if np.mean(abs(y_hat - a[-1])) < 1e-8:\n",
    "            print('The number of iterations is ', k)\n",
    "            break\n",
    "            \n",
    "        y_hat = a[-1]\n",
    "        k += 1\n",
    "    \n",
    "    if k == max_iterations:\n",
    "        print('The number of iterations reach the max_steps', max_iterations)\n",
    "        \n",
    "    return (w, b)"
   ]
  },
  {
   "cell_type": "code",
   "execution_count": 3,
   "metadata": {},
   "outputs": [],
   "source": [
    "def deep_nn_predict(X, w, b):\n",
    "    \n",
    "    L = len(w) - 1\n",
    "    # Forward propagation\n",
    "    \n",
    "    # Input layer\n",
    "    z = list(np.zeros(L+1))\n",
    "    a = list(np.zeros(L+1))\n",
    "    a[0] = X\n",
    "    \n",
    "    # Hidden layers\n",
    "    for i in range(1,L):\n",
    "        z[i] = np.dot(w[i], a[i-1]) + b[i]\n",
    "        a[i] = np.fmax(z[i], np.zeros(z[i].shape)) # ReLU\n",
    "\n",
    "    # Output layer\n",
    "    z[L] = np.dot(w[L], a[L-1]) + b[L]\n",
    "    a[L] = 1/(1+np.exp(-z[L])) # Sigmoid    \n",
    "\n",
    "    return a[-1]"
   ]
  },
  {
   "cell_type": "code",
   "execution_count": 4,
   "metadata": {},
   "outputs": [],
   "source": [
    "# simulate data\n",
    "\n",
    "m_train = 7000 # the number of samples\n",
    "m_test = 3000\n",
    "n = 1000  # the number of features\n",
    "b = 0.5 # the intercept\n",
    "\n",
    "beta = np.array([i/n*2 for i in range(n)]).reshape((n,1))\n",
    "\n",
    "X_train = np.random.normal(size = (n,m_train))\n",
    "X_test = np.random.normal(size = (n,m_test))\n",
    "\n",
    "z_train = np.dot(beta.T, X_train) + b \n",
    "z_test = np.dot(beta.T, X_test) + b \n",
    "\n",
    "y_train = (1/(1+np.exp(-z_train)) > 0.5)*1\n",
    "y_test = (1/(1+np.exp(-z_test)) > 0.5)*1"
   ]
  },
  {
   "cell_type": "code",
   "execution_count": 5,
   "metadata": {},
   "outputs": [
    {
     "name": "stdout",
     "output_type": "stream",
     "text": [
      "The number of iterations reach the max_steps 10000\n"
     ]
    },
    {
     "data": {
      "text/plain": [
       "0.9293333333333333"
      ]
     },
     "execution_count": 5,
     "metadata": {},
     "output_type": "execute_result"
    }
   ],
   "source": [
    "# Train the model\n",
    "w, b = deep_nn_train(X_train, y_train, n_units = [4,1], alpha = 0.02, max_iterations = 10000)\n",
    "# make prediction\n",
    "pred = deep_nn_predict(X_test, w, b)\n",
    "# Accuracy rate\n",
    "np.mean((pred > 0.5) == y_test)"
   ]
  },
  {
   "cell_type": "code",
   "execution_count": null,
   "metadata": {},
   "outputs": [],
   "source": []
  }
 ],
 "metadata": {
  "kernelspec": {
   "display_name": "Python 3",
   "language": "python",
   "name": "python3"
  },
  "language_info": {
   "codemirror_mode": {
    "name": "ipython",
    "version": 3
   },
   "file_extension": ".py",
   "mimetype": "text/x-python",
   "name": "python",
   "nbconvert_exporter": "python",
   "pygments_lexer": "ipython3",
   "version": "3.6.4"
  }
 },
 "nbformat": 4,
 "nbformat_minor": 2
}
