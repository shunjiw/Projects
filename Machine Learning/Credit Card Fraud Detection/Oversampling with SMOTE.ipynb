{
 "cells": [
  {
   "cell_type": "markdown",
   "metadata": {},
   "source": [
    "### Oversampling with SMOTE\n",
    "1. disadvantages of under-sampling: lose useful information.\n",
    "2. disadvantages of over-sampling with replacement: overfitting.\n",
    "3. advantages of SMOTE (Synthetic Minority Over-sampling TEchnique): avoid overfitting. "
   ]
  },
  {
   "cell_type": "code",
   "execution_count": 3,
   "metadata": {},
   "outputs": [
    {
     "name": "stderr",
     "output_type": "stream",
     "text": [
      "/Users/weishunji/anaconda3/lib/python3.6/site-packages/sklearn/externals/six.py:31: DeprecationWarning: The module is deprecated in version 0.21 and will be removed in version 0.23 since we've dropped support for Python 2.7. Please rely on the official version of six (https://pypi.org/project/six/).\n",
      "  \"(https://pypi.org/project/six/).\", DeprecationWarning)\n"
     ]
    }
   ],
   "source": [
    "import pandas as pd\n",
    "import numpy as np\n",
    "import math\n",
    "from imblearn.over_sampling import SMOTE\n",
    "from sklearn.model_selection import train_test_split\n",
    "import random"
   ]
  },
  {
   "cell_type": "code",
   "execution_count": 4,
   "metadata": {},
   "outputs": [
    {
     "data": {
      "text/plain": [
       "((199364, 22), (199364,), (85443, 22), (85443,))"
      ]
     },
     "execution_count": 4,
     "metadata": {},
     "output_type": "execute_result"
    }
   ],
   "source": [
    "# read data\n",
    "df = pd.read_csv('creditcard.csv')\n",
    "\n",
    "# Data transformation\n",
    "df['Time'] = df['Time']/3600\n",
    "df['Amount'] = [math.log(x+1) for x in df['Amount']]\n",
    "\n",
    "# Only keep the first 20 PCs\n",
    "train_cols = list(df.columns.values[:21])\n",
    "train_cols.append('Amount')\n",
    "\n",
    "# Split train and test set\n",
    "X_train, X_test, y_train, y_test = train_test_split(df[train_cols], df['Class'], test_size=0.3, random_state=0)\n",
    "X_train.shape, y_train.shape, X_test.shape, y_test.shape"
   ]
  },
  {
   "cell_type": "code",
   "execution_count": 5,
   "metadata": {},
   "outputs": [],
   "source": [
    "# Oversampling with SMOTE\n",
    "smote = SMOTE(sampling_strategy = 1, random_state=2) # sample strategy = 1 means class ratio is 1:1\n",
    "X_train_smote, y_train_smote = smote.fit_sample(X = X_train, y = y_train.values)\n",
    "\n",
    "# Shuffle data\n",
    "ind_list = [i for i in range(len(y_train_smote))]\n",
    "random.shuffle(ind_list)\n",
    "X_train_smote = X_train_smote[ind_list]\n",
    "y_train_smote = y_train_smote[ind_list]\n",
    "\n",
    "X_train_smote = pd.DataFrame(X_train_smote, columns = train_cols)"
   ]
  }
 ],
 "metadata": {
  "kernelspec": {
   "display_name": "Python 3",
   "language": "python",
   "name": "python3"
  },
  "language_info": {
   "codemirror_mode": {
    "name": "ipython",
    "version": 3
   },
   "file_extension": ".py",
   "mimetype": "text/x-python",
   "name": "python",
   "nbconvert_exporter": "python",
   "pygments_lexer": "ipython3",
   "version": "3.6.4"
  }
 },
 "nbformat": 4,
 "nbformat_minor": 2
}
