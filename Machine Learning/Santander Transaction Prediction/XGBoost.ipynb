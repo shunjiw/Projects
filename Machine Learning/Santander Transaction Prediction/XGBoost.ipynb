{
 "cells": [
  {
   "cell_type": "code",
   "execution_count": 2,
   "metadata": {},
   "outputs": [],
   "source": [
    "import pandas as pd\n",
    "import numpy as np\n",
    "import seaborn as sns\n",
    "import matplotlib.pyplot as plt\n",
    "import xgboost as xgb\n",
    "\n",
    "from sklearn.model_selection import train_test_split\n",
    "from sklearn.metrics import roc_curve, auc\n",
    "from sklearn.grid_search import GridSearchCV \n",
    "from xgboost.sklearn import XGBClassifier"
   ]
  },
  {
   "cell_type": "code",
   "execution_count": 3,
   "metadata": {},
   "outputs": [],
   "source": [
    "# Load data\n",
    "train = pd.read_csv('train.csv')\n",
    "test = pd.read_csv('test.csv')\n",
    "\n",
    "y = train['target']\n",
    "X = train.loc[:,'var_0':'var_199']\n",
    "X_train, X_test, y_train, y_test = train_test_split(X, y, test_size = 0.2, random_state=123)"
   ]
  },
  {
   "cell_type": "code",
   "execution_count": 4,
   "metadata": {},
   "outputs": [],
   "source": [
    "# Step 0. Prepare data \n",
    "dtrain = xgb.DMatrix(X_train.head(4000), y_train.head(4000))\n",
    "dtest = xgb.DMatrix(X_test, y_test)"
   ]
  },
  {
   "cell_type": "code",
   "execution_count": null,
   "metadata": {},
   "outputs": [],
   "source": [
    "# Step 1. Fix learning rate and choose the n_estimators\n",
    "params = {'eta':0.3, 'max_depth':3, 'min_child_weight':1, 'subsample':0.8,\n",
    "         'colsample_bytree':0.8, 'objective':'binary:logistic', 'scale_pos_weight': 1}\n",
    "cvresult = xgb.cv(params, dtrain, num_boost_round = 1000, early_stopping_rounds = 50, \n",
    "                  nfold = 5, metrics='auc', show_stdv=False)\n",
    "\n",
    "# Extract the best n_estimators \n",
    "num_estimators = cvresult.shape[0]\n",
    "num_estimators"
   ]
  },
  {
   "cell_type": "code",
   "execution_count": 6,
   "metadata": {},
   "outputs": [
    {
     "data": {
      "text/plain": [
       "([mean: 0.82051, std: 0.02880, params: {'max_depth': 3, 'min_child_weight': 1},\n",
       "  mean: 0.81565, std: 0.02551, params: {'max_depth': 3, 'min_child_weight': 3},\n",
       "  mean: 0.81051, std: 0.03361, params: {'max_depth': 3, 'min_child_weight': 5},\n",
       "  mean: 0.80690, std: 0.02744, params: {'max_depth': 5, 'min_child_weight': 1},\n",
       "  mean: 0.80644, std: 0.04074, params: {'max_depth': 5, 'min_child_weight': 3},\n",
       "  mean: 0.81643, std: 0.02432, params: {'max_depth': 5, 'min_child_weight': 5},\n",
       "  mean: 0.81223, std: 0.02200, params: {'max_depth': 7, 'min_child_weight': 1},\n",
       "  mean: 0.81427, std: 0.02995, params: {'max_depth': 7, 'min_child_weight': 3},\n",
       "  mean: 0.81136, std: 0.02242, params: {'max_depth': 7, 'min_child_weight': 5}],\n",
       " {'max_depth': 3, 'min_child_weight': 1},\n",
       " 0.8205072441583315)"
      ]
     },
     "execution_count": 6,
     "metadata": {},
     "output_type": "execute_result"
    }
   ],
   "source": [
    "# Step 2. Tune max_depth and min_child_weight\n",
    "param_test1 = {\n",
    " 'max_depth': [3,5,7],\n",
    " 'min_child_weight': [1,3,5]\n",
    "}\n",
    "gsearch1 = GridSearchCV(estimator = XGBClassifier(learning_rate =0.3, n_estimators=num_estimators, max_depth=3,\n",
    "                                                  min_child_weight=1, gamma=0, subsample=0.8, colsample_bytree=0.8, \n",
    "                                                  objective= 'binary:logistic', nthread=4, scale_pos_weight=1), \n",
    "                        param_grid = param_test1, scoring='roc_auc', n_jobs=4, iid=False, cv=5)\n",
    "gsearch1.fit(X_train.head(4000), y_train.head(4000))\n",
    "gsearch1.grid_scores_, gsearch1.best_params_, gsearch1.best_score_"
   ]
  },
  {
   "cell_type": "code",
   "execution_count": 8,
   "metadata": {},
   "outputs": [
    {
     "data": {
      "text/plain": [
       "([mean: 0.82051, std: 0.02880, params: {'gamma': 0},\n",
       "  mean: 0.81582, std: 0.03409, params: {'gamma': 0.1},\n",
       "  mean: 0.81730, std: 0.02274, params: {'gamma': 0.2},\n",
       "  mean: 0.82180, std: 0.03439, params: {'gamma': 0.3},\n",
       "  mean: 0.81800, std: 0.02542, params: {'gamma': 0.4}],\n",
       " {'gamma': 0.3},\n",
       " 0.8217999801742675)"
      ]
     },
     "execution_count": 8,
     "metadata": {},
     "output_type": "execute_result"
    }
   ],
   "source": [
    "# Step 3. Tune gamma\n",
    "param_test1 = {\n",
    "    'gamma': [0,0.1,0.2,0.3,0.4]\n",
    "}\n",
    "gsearch1 = GridSearchCV(estimator = XGBClassifier(learning_rate =0.3, n_estimators=num_estimators, max_depth=3,\n",
    "                                                  min_child_weight=1, gamma=0, subsample=0.8, colsample_bytree=0.8, \n",
    "                                                  objective= 'binary:logistic', nthread=4, scale_pos_weight=1), \n",
    "                        param_grid = param_test1, scoring='roc_auc', n_jobs=4, iid=False, cv=5)\n",
    "gsearch1.fit(X_train.head(4000), y_train.head(4000))\n",
    "gsearch1.grid_scores_, gsearch1.best_params_, gsearch1.best_score_"
   ]
  },
  {
   "cell_type": "code",
   "execution_count": null,
   "metadata": {},
   "outputs": [],
   "source": [
    "# Step 3.5 Adjust num_estimators after tuning max_depth, min_child_weight and gamma\n",
    "params = {'eta':0.3, 'max_depth':3, 'min_child_weight':1, 'gamma':0.3, 'subsample':0.8,\n",
    "         'colsample_bytree':0.8, 'objective':'binary:logistic', 'scale_pos_weight': 1}\n",
    "cvresult = xgb.cv(params, dtrain, num_boost_round = 1000, early_stopping_rounds = 50, \n",
    "                  nfold = 5, metrics='auc', show_stdv=False)\n",
    "num_estimators = cvresult.shape[0]\n",
    "num_estimators"
   ]
  },
  {
   "cell_type": "code",
   "execution_count": 10,
   "metadata": {},
   "outputs": [
    {
     "data": {
      "text/plain": [
       "([mean: 0.81224, std: 0.02326, params: {'colsample_bytree': 0.6, 'subsample': 0.6},\n",
       "  mean: 0.80883, std: 0.03782, params: {'colsample_bytree': 0.6, 'subsample': 0.7},\n",
       "  mean: 0.82267, std: 0.01584, params: {'colsample_bytree': 0.6, 'subsample': 0.8},\n",
       "  mean: 0.81639, std: 0.02674, params: {'colsample_bytree': 0.6, 'subsample': 0.9},\n",
       "  mean: 0.80371, std: 0.02491, params: {'colsample_bytree': 0.7, 'subsample': 0.6},\n",
       "  mean: 0.80644, std: 0.02917, params: {'colsample_bytree': 0.7, 'subsample': 0.7},\n",
       "  mean: 0.80125, std: 0.02467, params: {'colsample_bytree': 0.7, 'subsample': 0.8},\n",
       "  mean: 0.82408, std: 0.02976, params: {'colsample_bytree': 0.7, 'subsample': 0.9},\n",
       "  mean: 0.80308, std: 0.02893, params: {'colsample_bytree': 0.8, 'subsample': 0.6},\n",
       "  mean: 0.81270, std: 0.03009, params: {'colsample_bytree': 0.8, 'subsample': 0.7},\n",
       "  mean: 0.82085, std: 0.03511, params: {'colsample_bytree': 0.8, 'subsample': 0.8},\n",
       "  mean: 0.80665, std: 0.03026, params: {'colsample_bytree': 0.8, 'subsample': 0.9},\n",
       "  mean: 0.81327, std: 0.02507, params: {'colsample_bytree': 0.9, 'subsample': 0.6},\n",
       "  mean: 0.81192, std: 0.02029, params: {'colsample_bytree': 0.9, 'subsample': 0.7},\n",
       "  mean: 0.81241, std: 0.03171, params: {'colsample_bytree': 0.9, 'subsample': 0.8},\n",
       "  mean: 0.81269, std: 0.02893, params: {'colsample_bytree': 0.9, 'subsample': 0.9}],\n",
       " {'colsample_bytree': 0.7, 'subsample': 0.9},\n",
       " 0.8240758381296732)"
      ]
     },
     "execution_count": 10,
     "metadata": {},
     "output_type": "execute_result"
    }
   ],
   "source": [
    "# Step 4. Tune subsample and colsample_bytree\n",
    "param_test1 = {\n",
    "    'subsample': [0.6,0.7,0.8,0.9],\n",
    "    'colsample_bytree': [0.6,0.7,0.8,0.9]\n",
    "}\n",
    "gsearch1 = GridSearchCV(estimator = XGBClassifier(learning_rate =0.3, n_estimators=num_estimators, max_depth=3,\n",
    "                                                  min_child_weight=1, gamma=0.3, subsample=0.8, colsample_bytree=0.8, \n",
    "                                                  objective= 'binary:logistic', nthread=4, scale_pos_weight=1), \n",
    "                        param_grid = param_test1, scoring='roc_auc', n_jobs=4, iid=False, cv=5)\n",
    "gsearch1.fit(X_train.head(4000), y_train.head(4000))\n",
    "gsearch1.grid_scores_, gsearch1.best_params_, gsearch1.best_score_"
   ]
  },
  {
   "cell_type": "code",
   "execution_count": 11,
   "metadata": {},
   "outputs": [
    {
     "data": {
      "text/plain": [
       "([mean: 0.82408, std: 0.02976, params: {'reg_alpha': 0},\n",
       "  mean: 0.82407, std: 0.02975, params: {'reg_alpha': 0.0001},\n",
       "  mean: 0.81063, std: 0.03288, params: {'reg_alpha': 0.01},\n",
       "  mean: 0.81971, std: 0.03666, params: {'reg_alpha': 0.1},\n",
       "  mean: 0.80825, std: 0.02967, params: {'reg_alpha': 1},\n",
       "  mean: 0.69961, std: 0.03980, params: {'reg_alpha': 100}],\n",
       " {'reg_alpha': 0},\n",
       " 0.8240758381296732)"
      ]
     },
     "execution_count": 11,
     "metadata": {},
     "output_type": "execute_result"
    }
   ],
   "source": [
    "# Step 5. Tune regularization term (L1-norm)\n",
    "param_test1 = {\n",
    "    'reg_alpha': [0, 0.0001, 0.01, 0.1, 1, 100]\n",
    "}\n",
    "gsearch1 = GridSearchCV(estimator = XGBClassifier(learning_rate =0.3, n_estimators=num_estimators, max_depth=3,\n",
    "                                                  min_child_weight=1, gamma=0.3, subsample=0.9, colsample_bytree=0.7, \n",
    "                                                  objective= 'binary:logistic', nthread=4, scale_pos_weight=1), \n",
    "                        param_grid = param_test1, scoring='roc_auc', n_jobs=4, iid=False, cv=5)\n",
    "gsearch1.fit(X_train.head(4000), y_train.head(4000))\n",
    "gsearch1.grid_scores_, gsearch1.best_params_, gsearch1.best_score_"
   ]
  },
  {
   "cell_type": "code",
   "execution_count": null,
   "metadata": {},
   "outputs": [],
   "source": [
    "# Step 6. reduce learning rate and determine the num_estimators\n",
    "params = {'eta':0.05, 'max_depth':3, 'min_child_weight':1, 'gamma':0.3, 'subsample':0.9,\n",
    "         'colsample_bytree':0.7, 'objective':'binary:logistic',  'scale_pos_weight': 1}\n",
    "cvresult = xgb.cv(params, dtrain, num_boost_round = 1000, early_stopping_rounds = 50, \n",
    "                  nfold = 5, metrics='auc', show_stdv=False)\n",
    "num_estimators = cvresult.shape[0]\n",
    "num_estimators"
   ]
  },
  {
   "cell_type": "code",
   "execution_count": 13,
   "metadata": {},
   "outputs": [],
   "source": [
    "# Step 7. Fit the model\n",
    "dtrain = xgb.DMatrix(X_train, y_train)\n",
    "params = {'eta':0.05, 'max_depth':3, 'min_child_weight':1, 'gamma':0.3, 'subsample':0.9,\n",
    "         'colsample_bytree':0.7, 'objective':'binary:logistic',  'scale_pos_weight': 1}\n",
    "bst = xgb.train(params, dtrain, num_boost_round = num_estimators)"
   ]
  },
  {
   "cell_type": "code",
   "execution_count": 14,
   "metadata": {},
   "outputs": [],
   "source": [
    "# Model Performance (ROC-AUC)\n",
    "xgb_preds = bst.predict(dtest)\n",
    "fpr, tpr, threshold = roc_curve(y_test, xgb_preds)\n",
    "roc_auc = auc(fpr, tpr)"
   ]
  },
  {
   "cell_type": "code",
   "execution_count": 16,
   "metadata": {},
   "outputs": [
    {
     "data": {
      "image/png": "[encoded data removed]",
      "text/plain": [
       "<matplotlib.figure.Figure at 0x1127f3a90>"
      ]
     },
     "metadata": {},
     "output_type": "display_data"
    }
   ],
   "source": [
    "plt.figure()\n",
    "plt.plot(fpr, tpr, color='darkorange', lw=1, label='ROC curve (area = %0.6f)' % roc_auc)\n",
    "plt.plot([0, 1], [0, 1], color='navy', lw=1, linestyle='--')\n",
    "plt.xlim([0.0, 1.0])\n",
    "plt.ylim([0.0, 1.05])\n",
    "plt.xlabel('False Positive Rate')\n",
    "plt.ylabel('True Positive Rate')\n",
    "plt.title('Receiver operating characteristic')\n",
    "plt.legend(loc=\"lower right\")\n",
    "plt.show()"
   ]
  },
  {
   "cell_type": "code",
   "execution_count": 19,
   "metadata": {},
   "outputs": [],
   "source": [
    "dtest2 = xgb.DMatrix(test.loc[:,'var_0':'var_199'])\n",
    "# submission = pd.DataFrame({'ID_code': test['ID_code'], 'target': bst.predict(dtest2)})\n",
    "# submission.to_csv('sample_submission_2.csv', index = False)"
   ]
  }
 ],
 "metadata": {
  "kernelspec": {
   "display_name": "Python 3",
   "language": "python",
   "name": "python3"
  },
  "language_info": {
   "codemirror_mode": {
    "name": "ipython",
    "version": 3
   },
   "file_extension": ".py",
   "mimetype": "text/x-python",
   "name": "python",
   "nbconvert_exporter": "python",
   "pygments_lexer": "ipython3",
   "version": "3.6.4"
  }
 },
 "nbformat": 4,
 "nbformat_minor": 2
}
