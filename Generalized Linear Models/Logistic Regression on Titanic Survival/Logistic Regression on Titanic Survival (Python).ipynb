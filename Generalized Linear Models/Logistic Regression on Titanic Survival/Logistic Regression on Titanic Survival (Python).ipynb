{
 "cells": [
  {
   "cell_type": "code",
   "execution_count": null,
   "metadata": {},
   "outputs": [],
   "source": [
    "import panda as pd\n",
    "import statsmodels.api as sm"
   ]
  },
  {
   "cell_type": "code",
   "execution_count": null,
   "metadata": {},
   "outputs": [],
   "source": [
    "# Read data\n",
    "tdata = pd.read_csv('Titanic_train.csv')"
   ]
  },
  {
   "cell_type": "code",
   "execution_count": null,
   "metadata": {},
   "outputs": [],
   "source": [
    "### Data Preprocessing ###\n",
    "\n",
    "# Subset data\n",
    "pdpre = tdata.iloc[:,[1,2,4,5,6,7,9]]\n",
    "pdpre.head()\n",
    "\n",
    "# Set ‘male’ to 1, ‘female’ to 0\n",
    "def sex_to_numeric(x):\n",
    "    if x == 'male':\n",
    "        return 1\n",
    "    if x=='female':\n",
    "        return 0\n",
    "pdpre['Sex'] = pdpre['Sex'].apply(sex_to_numeric)\n",
    "\n",
    "# Data Summary\n",
    "sumy = pdpre.iloc[:,1:].describe(include='all')\n",
    "\n",
    "# Two-way contingency table\n",
    "pd.crosstab(pdpre['Survived'], pdpre['Pclass'], margins=True)\n",
    "\n",
    "# Missing value\n",
    "pdpre[\"Age\"].fillna(pdpre[\"Age\"].mean(), inplace=True)\n",
    "\n",
    "# Transfer categorical variables to dummy variables\n",
    "pc = pd.get_dummies(pdpre['Pclass'], prefix='Pclass')\n",
    "sx = pd.get_dummies(pdpre['Sex'], prefix='Sex')\n",
    "cols_to_keep = ['Survived', 'Age', 'SibSp', 'Parch', 'Fare']\n",
    "df_temp = pdpre[cols_to_keep].join(pc.loc[: , 'Pclass_2' : ])\n",
    "df = df_temp.join(sx['Sex_1'])\n",
    "\n",
    "# Split training and test data\n",
    "train = df.iloc[ : 802, : ]\n",
    "test = df.iloc[802 : , : ]\n",
    "\n",
    "train_y = train['Survived']\n",
    "train_x = train.iloc[ : , 1 : ]\n",
    "\n",
    "test_y = test['Survived']\n",
    "test_x = test.iloc[ : , 1 : ]"
   ]
  },
  {
   "cell_type": "code",
   "execution_count": null,
   "metadata": {},
   "outputs": [],
   "source": [
    "# Fitting Logistic model\n",
    "train_x['intercept'] = 1.0\n",
    "logit = sm.Logit(train_y, train_x)\n",
    "result = logit.fit()\n",
    "result.summary()"
   ]
  },
  {
   "cell_type": "code",
   "execution_count": null,
   "metadata": {},
   "outputs": [],
   "source": [
    "# Predicting\n",
    "test_x['intercept'] = 1.0\n",
    "pred = result.predict(test_x)\n",
    "\n",
    "# Use 0.5 as the threshold\n",
    "pred[pred > 0.5] = 1\n",
    "pred[pred <= 0.5] = 0\n",
    "\n",
    "# Use the error rate as the evaluation metric\n",
    "test_err = 1 - (test_y == pred).mean()\n",
    "print(\"test error rate: \" + str(test_err))"
   ]
  }
 ],
 "metadata": {
  "kernelspec": {
   "display_name": "Python 3",
   "language": "python",
   "name": "python3"
  },
  "language_info": {
   "codemirror_mode": {
    "name": "ipython",
    "version": 3
   },
   "file_extension": ".py",
   "mimetype": "text/x-python",
   "name": "python",
   "nbconvert_exporter": "python",
   "pygments_lexer": "ipython3",
   "version": "3.6.4"
  }
 },
 "nbformat": 4,
 "nbformat_minor": 2
}
